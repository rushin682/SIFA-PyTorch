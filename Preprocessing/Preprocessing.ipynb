{
 "cells": [
  {
   "cell_type": "code",
   "execution_count": 1,
   "metadata": {},
   "outputs": [],
   "source": [
    "from datetime import datetime\n",
    "import json\n",
    "import numpy as np\n",
    "import os\n",
    "import random\n",
    "\n",
    "import nibabel as nib\n",
    "import tensorflow as tf\n",
    "\n",
    "import tf_loader\n",
    "\n",
    "import csv"
   ]
  },
  {
   "cell_type": "code",
   "execution_count": 2,
   "metadata": {},
   "outputs": [],
   "source": [
    "source_train_pth = './data/datalist/training_mr.txt'\n",
    "target_train_pth = './data/datalist/training_ct.txt'\n",
    "source_val_pth = './data/datalist/validation_mr.txt'\n",
    "target_val_pth = './data/datalist/validation_ct.txt'\n",
    "\n",
    "num_cls = 5"
   ]
  },
  {
   "cell_type": "code",
   "execution_count": 3,
   "metadata": {},
   "outputs": [],
   "source": [
    "class tf2nii:\n",
    "    \"\"\"The tfrecord to nii.gz converter\"\"\"\n",
    "\n",
    "    def __init__(self, output_dir):\n",
    "\n",
    "        current_time = datetime.now().strftime(\"%Y%m%d-%H%M%S\")\n",
    "\n",
    "        self._source_train_pth = source_train_pth\n",
    "        self._target_train_pth = target_train_pth\n",
    "        self._source_val_pth = source_val_pth\n",
    "        self._target_val_pth = target_val_pth\n",
    "        self._num_cls = num_cls\n",
    "\n",
    "        self._output_dir = output_dir\n",
    "        if not os.path.exists(os.path.join(\"data\", self._output_dir)):\n",
    "            os.makedirs(os.path.join(\"data\", self._output_dir))\n",
    "            os.makedirs(os.path.join(\"data\", self._output_dir, \"datalist\"))\n",
    "        \n",
    "        \n",
    "        # Load Dataset from the dataset folder\n",
    "        source_slices = tf_loader.load_data(self._source_train_pth)\n",
    "        target_slices = tf_loader.load_data(self._target_train_pth)\n",
    "\n",
    "        val_source_slices = tf_loader.load_data(self._source_val_pth)\n",
    "        val_target_slices = tf_loader.load_data(self._target_val_pth)\n",
    "        \n",
    "        # Save Images Counter\n",
    "        self.count = 0\n",
    "\n",
    "        self.looper(source_slices, export_dir=\"mr_train\", export_csv=\"mr_train.csv\")\n",
    "        self.looper(val_source_slices, export_dir=\"mr_val\", export_csv=\"mr_val.csv\")\n",
    "        self.looper(target_slices, export_dir=\"ct_train\", export_csv=\"ct_train.csv\")\n",
    "        self.looper(val_target_slices, export_dir=\"ct_val\", export_csv=\"ct_val.csv\")\n",
    "\n",
    "\n",
    "    def looper(self, slices, export_dir=None, export_csv=None):\n",
    "        self.count = 0\n",
    "        self.export_dir = os.path.join(\"data\", self._output_dir, export_dir)\n",
    "        self.export_csv = os.path.join(\"data\", self._output_dir, \"datalist\", export_csv)\n",
    "        \n",
    "        for image, gt in slices:\n",
    "\n",
    "            image = image.numpy()\n",
    "            gt = gt.numpy()\n",
    "            self.save_file(image, gt)\n",
    "\n",
    "\n",
    "    def save_file(self, image, label):\n",
    "        # save to the disk\n",
    "        self.count += 1\n",
    "\n",
    "        image_name = \"coronal_slice_\"+\"{:04d}\".format(self.count)\n",
    "        label_name = \"coronal_slice_label\"+\"{:04d}\".format(self.count)\n",
    "\n",
    "        if not os.path.exists(self.export_dir):\n",
    "            os.makedirs(self.export_dir)\n",
    "            os.makedirs(os.path.join(self.export_dir, \"slices\"))\n",
    "            os.makedirs(os.path.join(self.export_dir, \"labels\"))\n",
    "\n",
    "        with open(self.export_csv, 'a', newline='') as csvfile:\n",
    "            wrt = csv.writer(csvfile, delimiter=',', quotechar='|', quoting=csv.QUOTE_MINIMAL)\n",
    "            wrt.writerow([image_name, label_name])\n",
    "\n",
    "        nii_image = nib.Nifti1Image(image, np.diag([1,1,1,1]))\n",
    "        nii_label = nib.Nifti1Image(label, np.diag([1,1,1,1]))\n",
    "\n",
    "        nib.save(nii_image, os.path.join(self.export_dir, \"slices\", image_name+\".nii.gz\"))\n",
    "        nib.save(nii_label, os.path.join(self.export_dir, \"labels\", label_name+\".nii.gz\"))\n",
    "\n"
   ]
  },
  {
   "cell_type": "code",
   "execution_count": 4,
   "metadata": {},
   "outputs": [],
   "source": [
    "def main(output_dir):\n",
    "    dataloader = tf2nii(output_dir)"
   ]
  },
  {
   "cell_type": "code",
   "execution_count": 5,
   "metadata": {},
   "outputs": [
    {
     "name": "stdout",
     "output_type": "stream",
     "text": [
      "9600\n",
      "{(1, 256, 256)}\n",
      "8400\n",
      "{(1, 256, 256)}\n",
      "2400\n",
      "{(1, 256, 256)}\n",
      "1200\n",
      "{(1, 256, 256)}\n"
     ]
    }
   ],
   "source": [
    "if __name__ == '__main__':\n",
    "    output_dir = \"ct_mr_dataset\" \n",
    "    main(output_dir)"
   ]
  },
  {
   "cell_type": "code",
   "execution_count": null,
   "metadata": {},
   "outputs": [],
   "source": []
  }
 ],
 "metadata": {
  "kernelspec": {
   "display_name": "Python 3",
   "language": "python",
   "name": "python3"
  },
  "language_info": {
   "codemirror_mode": {
    "name": "ipython",
    "version": 3
   },
   "file_extension": ".py",
   "mimetype": "text/x-python",
   "name": "python",
   "nbconvert_exporter": "python",
   "pygments_lexer": "ipython3",
   "version": "3.6.10"
  }
 },
 "nbformat": 4,
 "nbformat_minor": 4
}
