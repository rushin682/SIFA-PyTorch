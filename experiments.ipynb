{
 "cells": [
  {
   "cell_type": "code",
   "execution_count": null,
   "metadata": {},
   "outputs": [],
   "source": [
    "import slicer\n",
    "import os\n",
    "import torch\n",
    "import pandas as pd\n",
    "from skimage import io, transform\n",
    "import numpy as np\n",
    "import random\n",
    "\n",
    "from torch.utils.data import Dataset, DataLoader\n",
    "from torchvision import transforms, utils\n",
    "import torchvision.transforms.functional as TF\n",
    "\n",
    "import nibabel as nib\n",
    "\n",
    "import matplotlib.pyplot as plt\n"
   ]
  },
  {
   "cell_type": "code",
   "execution_count": null,
   "metadata": {},
   "outputs": [],
   "source": [
    "def show_slices(slices):\n",
    "    \"\"\" Function to display row of image slices \"\"\"\n",
    "    fig, axes = plt.subplots(1, len(slices))\n",
    "    for i, slice in enumerate(slices):\n",
    "        axes[i].imshow(slice.T, cmap=\"gray\", origin=\"lower\")"
   ]
  },
  {
   "cell_type": "code",
   "execution_count": null,
   "metadata": {},
   "outputs": [],
   "source": [
    "from data_loader import CT_MR_Dataset, Two_idx_RandomSampler, Two_idx_BatchSampler\n",
    "from torch.utils.data import DataLoader\n",
    "import matplotlib.pyplot as plt"
   ]
  },
  {
   "cell_type": "code",
   "execution_count": null,
   "metadata": {},
   "outputs": [],
   "source": [
    "data_path = \"data/MMWHS/ct_mr_dataset/\"\n",
    "source_path = \"mr_train.csv\"\n",
    "target_path=\"ct_train.csv\"\n",
    "    \n",
    "rotation_angle = 15\n",
    "shift_range = [0.3,0.3]\n",
    "shear_range = 0.1\n",
    "zoom_range = 1.3\n",
    "\n",
    "basic_augmentations = None\n",
    "\n",
    "dataset = CT_MR_Dataset(source_path, target_path, augment_param=basic_augmentations)\n",
    "\n",
    "sizes = len(dataset)\n",
    "\n",
    "print(\"Length of dataset: \", dataset._length_())\n"
   ]
  },
  {
   "cell_type": "code",
   "execution_count": null,
   "metadata": {},
   "outputs": [],
   "source": [
    "two_idx_sampler = Two_idx_RandomSampler(dataset)\n",
    "two_idx_batch_sampler = Two_idx_BatchSampler(two_idx_sampler, batch_size=1, drop_last=True)\n",
    "\n",
    "dataloader = DataLoader(dataset, batch_sampler=two_idx_batch_sampler, num_workers=1)"
   ]
  },
  {
   "cell_type": "code",
   "execution_count": null,
   "metadata": {},
   "outputs": [],
   "source": [
    "count = 0\n",
    "\n",
    "for i_batch, sample_batched in enumerate(dataloader):\n",
    "    \n",
    "    count += 1\n",
    "    if count > 10:\n",
    "        break\n",
    "    \n",
    "    print(i_batch,\"/\",len(two_idx_batch_sampler))\n",
    "\n",
    "    image = sample_batched['image_source']\n",
    "    label = sample_batched['gt_source']\n",
    "    \n",
    "        \n",
    "    slice_0 = image[0, 0, :, :]\n",
    "    label_1 = label[0, 1 , :, :]\n",
    "#     label_2 = label[0, 2 , :, :]\n",
    "    label_3 = label[0, 3 , :, :]\n",
    "#     label_4 = label[0, 4 , :, :]\n",
    "    show_slices([slice_0, label_1, label_3])\n",
    "    plt.suptitle(\"Center slices for EPI image\")  \n"
   ]
  },
  {
   "cell_type": "code",
   "execution_count": null,
   "metadata": {},
   "outputs": [],
   "source": []
  },
  {
   "cell_type": "code",
   "execution_count": null,
   "metadata": {},
   "outputs": [],
   "source": []
  },
  {
   "cell_type": "code",
   "execution_count": null,
   "metadata": {},
   "outputs": [],
   "source": []
  }
 ],
 "metadata": {
  "kernelspec": {
   "display_name": "Python 3",
   "language": "python",
   "name": "python3"
  },
  "language_info": {
   "codemirror_mode": {
    "name": "ipython",
    "version": 3
   },
   "file_extension": ".py",
   "mimetype": "text/x-python",
   "name": "python",
   "nbconvert_exporter": "python",
   "pygments_lexer": "ipython3",
   "version": "3.7.6"
  }
 },
 "nbformat": 4,
 "nbformat_minor": 2
}
